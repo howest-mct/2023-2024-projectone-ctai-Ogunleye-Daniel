{
 "cells": [
  {
   "cell_type": "code",
   "execution_count": 1,
   "metadata": {},
   "outputs": [
    {
     "ename": "ModuleNotFoundError",
     "evalue": "No module named 'RPi.GPIO'",
     "output_type": "error",
     "traceback": [
      "\u001b[1;31m---------------------------------------------------------------------------\u001b[0m",
      "\u001b[1;31mModuleNotFoundError\u001b[0m                       Traceback (most recent call last)",
      "Cell \u001b[1;32mIn[1], line 3\u001b[0m\n\u001b[0;32m      1\u001b[0m \u001b[38;5;28;01mimport\u001b[39;00m \u001b[38;5;21;01mcv2\u001b[39;00m\n\u001b[0;32m      2\u001b[0m \u001b[38;5;28;01mfrom\u001b[39;00m \u001b[38;5;21;01multralytics\u001b[39;00m \u001b[38;5;28;01mimport\u001b[39;00m YOLO\n\u001b[1;32m----> 3\u001b[0m \u001b[38;5;28;01mimport\u001b[39;00m \u001b[38;5;21;01mRPi\u001b[39;00m\u001b[38;5;21;01m.\u001b[39;00m\u001b[38;5;21;01mGPIO\u001b[39;00m \u001b[38;5;28;01mas\u001b[39;00m \u001b[38;5;21;01mGPIO\u001b[39;00m\n\u001b[0;32m      4\u001b[0m \u001b[38;5;28;01mimport\u001b[39;00m \u001b[38;5;21;01mtime\u001b[39;00m\n",
      "\u001b[1;31mModuleNotFoundError\u001b[0m: No module named 'RPi.GPIO'"
     ]
    }
   ],
   "source": [
    "import cv2\n",
    "from ultralytics import YOLO\n",
    "import RPi.GPIO as GPIO\n",
    "import time"
   ]
  },
  {
   "cell_type": "code",
   "execution_count": 2,
   "metadata": {},
   "outputs": [
    {
     "ename": "SyntaxError",
     "evalue": "invalid syntax (1740611921.py, line 15)",
     "output_type": "error",
     "traceback": [
      "\u001b[1;36m  Cell \u001b[1;32mIn[2], line 15\u001b[1;36m\u001b[0m\n\u001b[1;33m    GPIO setup\u001b[0m\n\u001b[1;37m         ^\u001b[0m\n\u001b[1;31mSyntaxError\u001b[0m\u001b[1;31m:\u001b[0m invalid syntax\n"
     ]
    }
   ],
   "source": [
    "# Load the YOLO model\n",
    "model = YOLO('facemask_detect.pt')\n",
    "\n",
    "# Define the colors for each label\n",
    "colors = {\n",
    "    \"Head\": (255, 0, 0),       # Blue\n",
    "    \"Nose\": (0, 255, 0),       # Green\n",
    "    \"Mouth\": (0, 0, 255),      # Red\n",
    "    \"Face Mask\": (255, 255, 0) # Cyan\n",
    "}\n",
    "\n",
    "# Define the labels\n",
    "labels = [\"Face Mask\", \"Head\", \"Mouth\", \"Nose\"]\n",
    "\n",
    "# GPIO setup for the magnetic lock and buzzer\n",
    "LOCK_PIN = 18  # Use any available GPIO pin for the lock\n",
    "BUZZER_PIN = 23  # Use any available GPIO pin for the buzzer\n",
    "\n",
    "GPIO.setmode(GPIO.BCM)\n",
    "GPIO.setup(LOCK_PIN, GPIO.OUT)\n",
    "GPIO.setup(BUZZER_PIN, GPIO.OUT)\n",
    "\n",
    "GPIO.output(LOCK_PIN, GPIO.LOW)  # Initially, the lock is disengaged\n",
    "\n",
    "# Initialize PWM for the buzzer\n",
    "buzzer = GPIO.PWM(BUZZER_PIN, 1000)  # Set frequency to 1 kHz\n",
    "buzzer.start(0)  # Start PWM with 0% duty cycle (off)\n",
    "\n",
    "# Initialize webcam\n",
    "cap = cv2.VideoCapture(0)\n",
    "\n",
    "# Frame counter for condition\n",
    "frame_counter = 0\n",
    "required_frames = 64\n",
    "\n",
    "while True:\n",
    "    # Capture frame-by-frame\n",
    "    ret, frame = cap.read()\n",
    "    if not ret:\n",
    "        break\n",
    "\n",
    "    # Perform inference\n",
    "    results = model(frame)\n",
    "\n",
    "    # Flags for detection\n",
    "    head_detected = False\n",
    "    face_mask_detected = False\n",
    "    nose_detected = False\n",
    "    mouth_detected = False\n",
    "\n",
    "    # Parse results\n",
    "    for result in results:\n",
    "        boxes = result.boxes\n",
    "        for box in boxes:\n",
    "            x1, y1, x2, y2 = map(int, box.xyxy[0])\n",
    "            label = labels[int(box.cls[0])]\n",
    "            color = colors[label]\n",
    "            conf = box.conf[0]\n",
    "\n",
    "            # Draw bounding box\n",
    "            cv2.rectangle(frame, (x1, y1), (x2, y2), color, 2)\n",
    "            # Display label and confidence\n",
    "            cv2.putText(frame, f'{label} {conf:.2f}', (x1, y1 - 10), cv2.FONT_HERSHEY_SIMPLEX, 0.9, color, 2)\n",
    "\n",
    "            # Update detection flags\n",
    "            if label == \"Head\":\n",
    "                head_detected = True\n",
    "            elif label == \"Face Mask\":\n",
    "                face_mask_detected = True\n",
    "            elif label == \"Nose\":\n",
    "                nose_detected = True\n",
    "            elif label == \"Mouth\":\n",
    "                mouth_detected = True\n",
    "\n",
    "    # Check detection conditions\n",
    "    if head_detected and face_mask_detected and not nose_detected and not mouth_detected:\n",
    "        frame_counter += 1\n",
    "    else:\n",
    "        frame_counter = 0\n",
    "\n",
    "    # Control the magnetic lock and buzzer\n",
    "    if frame_counter >= required_frames:\n",
    "        GPIO.output(LOCK_PIN, GPIO.HIGH)  # Engage the lock\n",
    "        buzzer.ChangeDutyCycle(50)  # 50% duty cycle (beep on)\n",
    "        time.sleep(0.5)  # Beep for 0.5 second\n",
    "        buzzer.ChangeDutyCycle(0)  # 0% duty cycle (beep off)\n",
    "    else:\n",
    "        GPIO.output(LOCK_PIN, GPIO.LOW)   # Disengage the lock\n",
    "\n",
    "    # Display the resulting frame\n",
    "    cv2.imshow('Frame', frame)\n",
    "\n",
    "    # Break the loop on 'q' key press\n",
    "    if cv2.waitKey(1) & 0xFF == ord('q'):\n",
    "        break\n",
    "\n",
    "# Release the webcam and close windows\n",
    "cap.release()\n",
    "cv2.destroyAllWindows()\n",
    "\n",
    "# Cleanup GPIO\n",
    "GPIO.cleanup()\n"
   ]
  }
 ],
 "metadata": {
  "kernelspec": {
   "display_name": "Python 3",
   "language": "python",
   "name": "python3"
  },
  "language_info": {
   "codemirror_mode": {
    "name": "ipython",
    "version": 3
   },
   "file_extension": ".py",
   "mimetype": "text/x-python",
   "name": "python",
   "nbconvert_exporter": "python",
   "pygments_lexer": "ipython3",
   "version": "3.12.4"
  }
 },
 "nbformat": 4,
 "nbformat_minor": 2
}
